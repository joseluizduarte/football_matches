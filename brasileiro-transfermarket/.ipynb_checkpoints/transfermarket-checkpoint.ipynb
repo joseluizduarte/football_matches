{
 "cells": [
  {
   "cell_type": "markdown",
   "id": "0a5eac48",
   "metadata": {},
   "source": [
    "# Web Scrapping Transfermarket\n",
    "\n",
    "Coleta dos dados de jogos do Campeonato Brasileiro de Futebol, Série A e Série B, na era dos pontos corridos disponíveis no site Transfermarket:\n",
    "* Brasileiro Série A (2003 - 2023)\n",
    "* Brasileiro Série B (2008 - 2023)"
   ]
  },
  {
   "cell_type": "markdown",
   "id": "c6ba4e34",
   "metadata": {},
   "source": [
    "### Estrutura dos dados\n",
    "\n",
    "\n",
    "Os jogos serão armazenados em um Data Frame do Pandas com 11 colunas:\n",
    "* **date:** dd/mm/aa\n",
    "* **time:** hh:mm no horário de Brasília\n",
    "* **home_team:** time mandante\n",
    "* **away_team:** time visitante\n",
    "* **goals_home:** gols marcados pelo time mandante\n",
    "* **goals_away:** gols marcados pelo time visitante\n",
    "* **referee:** ábitro principal, se a informação estiver disponível\n",
    "* **attendance:** público presente, se a informação estiver disponível\n",
    "* **league:** campeonato, 'Serie A' ou 'Serie B'\n",
    "* **season:** temporada\n",
    "* **matchweek:** rodada\n",
    "\n",
    "\n",
    "Gols, cartões vermelhos que ocoorem em uma partida são armazenados em outro Data Frame Pandas:\n",
    "* **match_index:** contém o índice da linha do Data Frame de jogos a qual a informação está relacionada \n",
    "* **event_team:** 'h' se o evento estiver relacionado ao time mandante ou 'a' if se estiver relacionado ao time visitante\n",
    "* **event_time:** tempo do jogo de 1' até 90'\n",
    "* **event_player:** nome do jogador relacionado ao evento\n",
    "* **event_desc:** descrição do evento"
   ]
  },
  {
   "cell_type": "markdown",
   "id": "1a9cdf28",
   "metadata": {},
   "source": [
    "### Definição das funções"
   ]
  },
  {
   "cell_type": "markdown",
   "id": "8da90e8a",
   "metadata": {},
   "source": [
    "Dependências utilizadas"
   ]
  },
  {
   "cell_type": "code",
   "execution_count": 1,
   "id": "ded8e613",
   "metadata": {},
   "outputs": [],
   "source": [
    "from bs4 import BeautifulSoup\n",
    "import requests\n",
    "import re\n",
    "import pandas as pd"
   ]
  },
  {
   "cell_type": "markdown",
   "id": "dd7a0406",
   "metadata": {},
   "source": [
    "A partir da informação do campeonato, temporada e rodada, a função retorno o html referente a página com a lista de jogos."
   ]
  },
  {
   "cell_type": "code",
   "execution_count": 2,
   "id": "50ee159c",
   "metadata": {},
   "outputs": [],
   "source": [
    "def get_page(league, season, matchweek):\n",
    "    # define url \n",
    "    url_a = 'https://www.transfermarkt.com.br/campeonato-brasileiro-serie-a/spieltag/wettbewerb/BRA1/plus/?saison_id={}&spieltag={}'\n",
    "    url_b = 'https://www.transfermarkt.com.br/campeonato-brasileiro-serie-b/spieltag/wettbewerb/BRA2/plus/?saison_id={}&spieltag={}'\n",
    "    if league == 'Serie A':\n",
    "        url = url_a.format(season-1, matchweek)\n",
    "    elif league == 'Serie B':\n",
    "        url = url_b.format(season-1, matchweek)\n",
    "    # get request\n",
    "    headers = {'User-Agent': 'Mozilla/5.0'}\n",
    "    response = requests.get(url, headers=headers)\n",
    "    # html parser\n",
    "    page = BeautifulSoup(response.text, \"html.parser\")\n",
    "    return page"
   ]
  },
  {
   "cell_type": "markdown",
   "id": "362b77b9",
   "metadata": {},
   "source": [
    "A função extrai uma lista de tags tbody que contém informação de um jogo"
   ]
  },
  {
   "cell_type": "code",
   "execution_count": 3,
   "id": "701dd6ee",
   "metadata": {},
   "outputs": [],
   "source": [
    "def get_matches_list(page):\n",
    "    matches_columns = page.select_one('html > body > div > main > div.row > div.large-8.columns')\n",
    "    matches_list = matches_columns.select('div[style=\"border-top: 0 !important;\"] > table > tbody')\n",
    "    return matches_list"
   ]
  },
  {
   "cell_type": "markdown",
   "id": "11cd5048",
   "metadata": {},
   "source": [
    "As funções seguintes extraem informações de uma determinada partida. É realizado um tratamento de erro em cada função com a finalidade de não parar a execução do programa caso uma página possua um construção diferente daquelas para o qual o codigo foi projetado. Nesses casos, o campo será preenchido com \"error\" no Data Frame para possibilitar o tratamentos desses dados em uma etapa futura."
   ]
  },
  {
   "cell_type": "markdown",
   "id": "8df339bf",
   "metadata": {},
   "source": [
    "A função identifica as tags tr dentro da tag tbody que não possuem o parâmetro class definido. A primeira dessas tags contém informação de data e hora. Dentro dessa tag existe uma tag a que possui em seu texto a data da partida. É realizado um tratamento nessa string para retirada de espaçamentos. Caso a informação não esteja disponível, será retornada uma string vazia. "
   ]
  },
  {
   "cell_type": "code",
   "execution_count": 4,
   "id": "b2283d5b",
   "metadata": {},
   "outputs": [],
   "source": [
    "def get_match_date(match):\n",
    "    # date\n",
    "    try:\n",
    "        match_informations = match.find_all('tr', attrs={'class': None})\n",
    "        date_time = match_informations[0]\n",
    "        date = date_time.select_one('td > a').text\n",
    "        date = date.replace(' ','').replace('\\n','')\n",
    "    except:\n",
    "        date = \"error\"\n",
    "    return date"
   ]
  },
  {
   "cell_type": "markdown",
   "id": "9a8e443e",
   "metadata": {},
   "source": [
    "A função identifica as tags tr dentro da tag tbody que não possuem o parâmetro class definido. A primeira dessas tags contém informação de data e hora. A função encontra uma tag td e retira as tags filhas. O texto que restar dentro da tag td será a informação da hora da partida. É realizada uma limpeza da string para retirada de espaçamentos e caracteres indesejados. Caso a informação não esteja disponível, será retornada uma string vazia."
   ]
  },
  {
   "cell_type": "code",
   "execution_count": 5,
   "id": "01b4b60e",
   "metadata": {},
   "outputs": [],
   "source": [
    "def get_match_time(match):\n",
    "    # time\n",
    "    try:\n",
    "        match_informations = match.find_all('tr', attrs={'class': None})\n",
    "        date_time = match_informations[0]\n",
    "        time = date_time.find('td')\n",
    "        time.div.decompose()\n",
    "        time.a.decompose()\n",
    "        time = re.sub('\\s', '', time.text).strip('-')\n",
    "    except:\n",
    "        time = \"error\"\n",
    "    return time"
   ]
  },
  {
   "cell_type": "markdown",
   "id": "1478d9a8",
   "metadata": {},
   "source": [
    "Dentro da tag tbody, a função identifica a primeira tag tr, a que contem o placar da partida. A partir da tag tr, a função encontra duas tags a dentro de uma tag com uma classe específica. Essas tags a contém no texto o nome das equipes. A primeira será referente à equipe mandante e a segunda referente à equipe visitante."
   ]
  },
  {
   "cell_type": "code",
   "execution_count": 6,
   "id": "48735003",
   "metadata": {},
   "outputs": [],
   "source": [
    "def get_match_teams(match):\n",
    "    try:\n",
    "        # teams\n",
    "        score = match.find_all('tr')[0]\n",
    "        teams = score.select('.hide-for-small.spieltagsansicht-vereinsname > a')\n",
    "        home_team = teams[0].text.strip()\n",
    "        away_team = teams[1].text.strip()\n",
    "        team = {'home': home_team, 'away': away_team}\n",
    "    except:\n",
    "        team = {'home': \"error\", 'away': \"error\"}\n",
    "    return team"
   ]
  },
  {
   "cell_type": "markdown",
   "id": "e61e17e8",
   "metadata": {},
   "source": [
    "Dentro da tag tbody, a função identifica a primeira tag tr, a que contem o placar da partida. A partir da tag tr, a função encontra uma tag span dentro de uma seguência a partir de uma tag com uma classe específica. Essas tag span contém no texto os gols da partida no formato mm:vv. A string é tratada para a identificação do gol de cada equipe."
   ]
  },
  {
   "cell_type": "code",
   "execution_count": 7,
   "id": "c1f65197",
   "metadata": {},
   "outputs": [],
   "source": [
    "def get_match_goals(match):\n",
    "    try:\n",
    "        # goals\n",
    "        score = match.find_all('tr')[0]\n",
    "        goals = score.select_one('.spieltagsansicht-ergebnis > span > a > span').text\n",
    "        goals = goals.split(':')\n",
    "        goals_home = goals[0].strip()\n",
    "        goals_away = goals[1].strip()\n",
    "        goals = {'home': goals_home, 'away': goals_away}\n",
    "    except:\n",
    "        goals = goals = {'home': \"error\", 'away': \"error\"}\n",
    "    return goals"
   ]
  },
  {
   "cell_type": "markdown",
   "id": "e18002cd",
   "metadata": {},
   "source": [
    "Em algumas partidas existe a informação referente ao público presente e ao árbitro principal. Nesse caso haverá duas tags tr dentro da tag tbody que não possuem o parâmetro class definido. A segunda dessas tag contém tais informações."
   ]
  },
  {
   "cell_type": "markdown",
   "id": "ee4e07bf",
   "metadata": {},
   "source": [
    "A função identifica as tags tr dentro da tag tbody que não possuem o parâmetro class definido. Caso só exita uma tag, a função retornará None. Caso haja uma segunda tag, a função encontrará o texto dela e filtrará somente os caracteres que forem algarismos. O retorno poderá ser uma string de algarismos representando o público presente ou uma string vazia caso a informação não seja encontrada."
   ]
  },
  {
   "cell_type": "code",
   "execution_count": 8,
   "id": "09d6d1f9",
   "metadata": {},
   "outputs": [],
   "source": [
    "def get_match_attendance(match):\n",
    "    try:\n",
    "        # attendance\n",
    "        match_informations = match.find_all('tr', attrs={'class': None})\n",
    "        attendance_referee = match_informations[1] if len(match_informations)>1 else None\n",
    "        if attendance_referee:\n",
    "            attendance = attendance_referee.text\n",
    "            attendance = re.sub('[^0-9]', '', attendance)\n",
    "        else:\n",
    "            attendance = None\n",
    "    except:\n",
    "        attendance = \"error\"\n",
    "    return attendance"
   ]
  },
  {
   "cell_type": "markdown",
   "id": "cb3333d7",
   "metadata": {},
   "source": [
    "A função identifica as tags tr dentro da tag tbody que não possuem o parâmetro class definido. Caso só exita uma tag, a função retornará None. Caso haja uma segunda tag, a função selecionará uma tag a. Caso não exista essa tag ou seu conteúdo seja vazio, a função retornará None, caso contrário, o retorno será uma sting contendo o nome do árbitro principal."
   ]
  },
  {
   "cell_type": "code",
   "execution_count": 9,
   "id": "ab1c414e",
   "metadata": {},
   "outputs": [],
   "source": [
    "def get_match_referee(match):\n",
    "    try:\n",
    "        # attendance\n",
    "        match_informations = match.find_all('tr', attrs={'class': None})\n",
    "        attendance_referee = match_informations[1] if len(match_informations)>1 else None\n",
    "        referee = attendance_referee.select_one('a') if attendance_referee else None\n",
    "        referee = referee.text if referee else None\n",
    "    except:\n",
    "        referee = \"error\"\n",
    "    return referee"
   ]
  },
  {
   "cell_type": "markdown",
   "id": "ace3cffa",
   "metadata": {},
   "source": [
    "Em algumas temporadas, estão disponíveis informações de alguns eventos que ocorreram no jogo: 'Gol', 'Gol de pênalti', 'Cartão vermelho', 'Gol-contra', 'Segundo cartão amarelo', 'Pênalti perdido'."
   ]
  },
  {
   "cell_type": "markdown",
   "id": "4bc7ce67",
   "metadata": {},
   "source": [
    "A função procura na página elementos que possuem a classe que os determina como atributo. Caso nenhuma tag seja encontrada, a função retorna uma lista vazia."
   ]
  },
  {
   "cell_type": "code",
   "execution_count": 10,
   "id": "98ea1970",
   "metadata": {},
   "outputs": [],
   "source": [
    "def get_match_events(match):\n",
    "    try:\n",
    "        match_events = match.select('tr.no-border.spieltagsansicht-aktionen')\n",
    "    except:\n",
    "        match_events = []\n",
    "    return match_events"
   ]
  },
  {
   "cell_type": "markdown",
   "id": "e42dc7ad",
   "metadata": {},
   "source": [
    "A função encontra as tags td que descrevem o evento. Na sequência encontra a tag que possui uma sequencia de elementos que contem o evento. A partir da posição dessa tag, é possível determinar as características do evento. A função retorna uma lista contendo as informações e adicionado como primeiro elemento, o indice da partida no Data Frame das partidas a que jogo se refere o evento."
   ]
  },
  {
   "cell_type": "code",
   "execution_count": 11,
   "id": "b952b78e",
   "metadata": {},
   "outputs": [],
   "source": [
    "def get_event_data(event, match_index):\n",
    "    try:\n",
    "        event = event.find_all('td')\n",
    "        event_index = [i for (i, td) in enumerate(event) if td.select_one('div > div > span > a')][0]\n",
    "        event_team = 'h' if event_index==0 else 'a'\n",
    "        event_time = event[1] if event_team=='h' else event[3]\n",
    "        event_time = event_time.text\n",
    "        event_desc = event[event_index].select_one('span.icons_sprite')\n",
    "        if event_desc:\n",
    "            event_desc = event_desc['title']\n",
    "            event_desc = event_desc.split(':')[1].strip()\n",
    "        else:\n",
    "            event_desc = None\n",
    "        event_player = event[event_index].select_one('div > div > span > a')['title']\n",
    "        event = [match_index, event_team, event_time, event_player, event_desc]\n",
    "    except:\n",
    "        event = [match_index, None, None, None, None]\n",
    "    return event"
   ]
  },
  {
   "cell_type": "markdown",
   "id": "6360f5d1",
   "metadata": {},
   "source": [
    "### Execução do Script"
   ]
  },
  {
   "cell_type": "code",
   "execution_count": 12,
   "id": "9d704225",
   "metadata": {},
   "outputs": [
    {
     "name": "stdout",
     "output_type": "stream",
     "text": [
      "Serie A 2003 - Matchweek 1\n"
     ]
    },
    {
     "ename": "InvalidURL",
     "evalue": "Failed to parse: no horário",
     "output_type": "error",
     "traceback": [
      "\u001b[1;31m---------------------------------------------------------------------------\u001b[0m",
      "\u001b[1;31mLocationParseError\u001b[0m                        Traceback (most recent call last)",
      "\u001b[1;32mD:\\Users\\JLD\\anaconda3\\lib\\site-packages\\requests\\models.py\u001b[0m in \u001b[0;36mprepare_url\u001b[1;34m(self, url, params)\u001b[0m\n\u001b[0;32m    381\u001b[0m         \u001b[1;32mtry\u001b[0m\u001b[1;33m:\u001b[0m\u001b[1;33m\u001b[0m\u001b[1;33m\u001b[0m\u001b[0m\n\u001b[1;32m--> 382\u001b[1;33m             \u001b[0mscheme\u001b[0m\u001b[1;33m,\u001b[0m \u001b[0mauth\u001b[0m\u001b[1;33m,\u001b[0m \u001b[0mhost\u001b[0m\u001b[1;33m,\u001b[0m \u001b[0mport\u001b[0m\u001b[1;33m,\u001b[0m \u001b[0mpath\u001b[0m\u001b[1;33m,\u001b[0m \u001b[0mquery\u001b[0m\u001b[1;33m,\u001b[0m \u001b[0mfragment\u001b[0m \u001b[1;33m=\u001b[0m \u001b[0mparse_url\u001b[0m\u001b[1;33m(\u001b[0m\u001b[0murl\u001b[0m\u001b[1;33m)\u001b[0m\u001b[1;33m\u001b[0m\u001b[1;33m\u001b[0m\u001b[0m\n\u001b[0m\u001b[0;32m    383\u001b[0m         \u001b[1;32mexcept\u001b[0m \u001b[0mLocationParseError\u001b[0m \u001b[1;32mas\u001b[0m \u001b[0me\u001b[0m\u001b[1;33m:\u001b[0m\u001b[1;33m\u001b[0m\u001b[1;33m\u001b[0m\u001b[0m\n",
      "\u001b[1;32mD:\\Users\\JLD\\anaconda3\\lib\\site-packages\\urllib3\\util\\url.py\u001b[0m in \u001b[0;36mparse_url\u001b[1;34m(url)\u001b[0m\n\u001b[0;32m    391\u001b[0m     \u001b[1;32mexcept\u001b[0m \u001b[1;33m(\u001b[0m\u001b[0mValueError\u001b[0m\u001b[1;33m,\u001b[0m \u001b[0mAttributeError\u001b[0m\u001b[1;33m)\u001b[0m\u001b[1;33m:\u001b[0m\u001b[1;33m\u001b[0m\u001b[1;33m\u001b[0m\u001b[0m\n\u001b[1;32m--> 392\u001b[1;33m         \u001b[1;32mreturn\u001b[0m \u001b[0msix\u001b[0m\u001b[1;33m.\u001b[0m\u001b[0mraise_from\u001b[0m\u001b[1;33m(\u001b[0m\u001b[0mLocationParseError\u001b[0m\u001b[1;33m(\u001b[0m\u001b[0msource_url\u001b[0m\u001b[1;33m)\u001b[0m\u001b[1;33m,\u001b[0m \u001b[1;32mNone\u001b[0m\u001b[1;33m)\u001b[0m\u001b[1;33m\u001b[0m\u001b[1;33m\u001b[0m\u001b[0m\n\u001b[0m\u001b[0;32m    393\u001b[0m \u001b[1;33m\u001b[0m\u001b[0m\n",
      "\u001b[1;32mD:\\Users\\JLD\\anaconda3\\lib\\site-packages\\urllib3\\packages\\six.py\u001b[0m in \u001b[0;36mraise_from\u001b[1;34m(value, from_value)\u001b[0m\n",
      "\u001b[1;31mLocationParseError\u001b[0m: Failed to parse: no horário",
      "\nDuring handling of the above exception, another exception occurred:\n",
      "\u001b[1;31mInvalidURL\u001b[0m                                Traceback (most recent call last)",
      "\u001b[1;32m<ipython-input-12-04f4639078e1>\u001b[0m in \u001b[0;36m<module>\u001b[1;34m\u001b[0m\n\u001b[0;32m     48\u001b[0m     \u001b[0mleague\u001b[0m\u001b[1;33m,\u001b[0m \u001b[0mseason\u001b[0m\u001b[1;33m,\u001b[0m \u001b[0mmatchweek\u001b[0m \u001b[1;33m=\u001b[0m \u001b[0mtm_site\u001b[0m\u001b[1;33m[\u001b[0m\u001b[1;34m'league'\u001b[0m\u001b[1;33m]\u001b[0m\u001b[1;33m,\u001b[0m \u001b[0mtm_site\u001b[0m\u001b[1;33m[\u001b[0m\u001b[1;34m'season'\u001b[0m\u001b[1;33m]\u001b[0m\u001b[1;33m,\u001b[0m \u001b[0mtm_site\u001b[0m\u001b[1;33m[\u001b[0m\u001b[1;34m'matchweek'\u001b[0m\u001b[1;33m]\u001b[0m\u001b[1;33m\u001b[0m\u001b[1;33m\u001b[0m\u001b[0m\n\u001b[0;32m     49\u001b[0m     \u001b[0mprint\u001b[0m\u001b[1;33m(\u001b[0m\u001b[1;34mf'{league} {season} - Matchweek {matchweek}'\u001b[0m\u001b[1;33m)\u001b[0m\u001b[1;33m\u001b[0m\u001b[1;33m\u001b[0m\u001b[0m\n\u001b[1;32m---> 50\u001b[1;33m     \u001b[0mpage\u001b[0m \u001b[1;33m=\u001b[0m \u001b[0mget_page\u001b[0m\u001b[1;33m(\u001b[0m\u001b[0mleague\u001b[0m\u001b[1;33m,\u001b[0m \u001b[0mseason\u001b[0m\u001b[1;33m,\u001b[0m \u001b[0mmatchweek\u001b[0m\u001b[1;33m)\u001b[0m\u001b[1;33m\u001b[0m\u001b[1;33m\u001b[0m\u001b[0m\n\u001b[0m\u001b[0;32m     51\u001b[0m     \u001b[0mmatches_list\u001b[0m \u001b[1;33m=\u001b[0m \u001b[0mget_matches_list\u001b[0m\u001b[1;33m(\u001b[0m\u001b[0mpage\u001b[0m\u001b[1;33m)\u001b[0m\u001b[1;33m\u001b[0m\u001b[1;33m\u001b[0m\u001b[0m\n\u001b[0;32m     52\u001b[0m \u001b[1;33m\u001b[0m\u001b[0m\n",
      "\u001b[1;32m<ipython-input-2-4376e37e0512>\u001b[0m in \u001b[0;36mget_page\u001b[1;34m(league, season, matchweek)\u001b[0m\n\u001b[0;32m      9\u001b[0m     \u001b[1;31m# get request\u001b[0m\u001b[1;33m\u001b[0m\u001b[1;33m\u001b[0m\u001b[1;33m\u001b[0m\u001b[0m\n\u001b[0;32m     10\u001b[0m     \u001b[0mheaders\u001b[0m \u001b[1;33m=\u001b[0m \u001b[1;33m{\u001b[0m\u001b[1;34m'User-Agent'\u001b[0m\u001b[1;33m:\u001b[0m \u001b[1;34m'Mozilla/5.0'\u001b[0m\u001b[1;33m}\u001b[0m\u001b[1;33m\u001b[0m\u001b[1;33m\u001b[0m\u001b[0m\n\u001b[1;32m---> 11\u001b[1;33m     \u001b[0mresponse\u001b[0m \u001b[1;33m=\u001b[0m \u001b[0mrequests\u001b[0m\u001b[1;33m.\u001b[0m\u001b[0mget\u001b[0m\u001b[1;33m(\u001b[0m\u001b[0murl\u001b[0m\u001b[1;33m,\u001b[0m \u001b[0mheaders\u001b[0m\u001b[1;33m=\u001b[0m\u001b[0mheaders\u001b[0m\u001b[1;33m)\u001b[0m\u001b[1;33m\u001b[0m\u001b[1;33m\u001b[0m\u001b[0m\n\u001b[0m\u001b[0;32m     12\u001b[0m     \u001b[1;31m# html parser\u001b[0m\u001b[1;33m\u001b[0m\u001b[1;33m\u001b[0m\u001b[1;33m\u001b[0m\u001b[0m\n\u001b[0;32m     13\u001b[0m     \u001b[0mpage\u001b[0m \u001b[1;33m=\u001b[0m \u001b[0mBeautifulSoup\u001b[0m\u001b[1;33m(\u001b[0m\u001b[0mresponse\u001b[0m\u001b[1;33m.\u001b[0m\u001b[0mtext\u001b[0m\u001b[1;33m,\u001b[0m \u001b[1;34m\"html.parser\"\u001b[0m\u001b[1;33m)\u001b[0m\u001b[1;33m\u001b[0m\u001b[1;33m\u001b[0m\u001b[0m\n",
      "\u001b[1;32mD:\\Users\\JLD\\anaconda3\\lib\\site-packages\\requests\\api.py\u001b[0m in \u001b[0;36mget\u001b[1;34m(url, params, **kwargs)\u001b[0m\n\u001b[0;32m     74\u001b[0m \u001b[1;33m\u001b[0m\u001b[0m\n\u001b[0;32m     75\u001b[0m     \u001b[0mkwargs\u001b[0m\u001b[1;33m.\u001b[0m\u001b[0msetdefault\u001b[0m\u001b[1;33m(\u001b[0m\u001b[1;34m'allow_redirects'\u001b[0m\u001b[1;33m,\u001b[0m \u001b[1;32mTrue\u001b[0m\u001b[1;33m)\u001b[0m\u001b[1;33m\u001b[0m\u001b[1;33m\u001b[0m\u001b[0m\n\u001b[1;32m---> 76\u001b[1;33m     \u001b[1;32mreturn\u001b[0m \u001b[0mrequest\u001b[0m\u001b[1;33m(\u001b[0m\u001b[1;34m'get'\u001b[0m\u001b[1;33m,\u001b[0m \u001b[0murl\u001b[0m\u001b[1;33m,\u001b[0m \u001b[0mparams\u001b[0m\u001b[1;33m=\u001b[0m\u001b[0mparams\u001b[0m\u001b[1;33m,\u001b[0m \u001b[1;33m**\u001b[0m\u001b[0mkwargs\u001b[0m\u001b[1;33m)\u001b[0m\u001b[1;33m\u001b[0m\u001b[1;33m\u001b[0m\u001b[0m\n\u001b[0m\u001b[0;32m     77\u001b[0m \u001b[1;33m\u001b[0m\u001b[0m\n\u001b[0;32m     78\u001b[0m \u001b[1;33m\u001b[0m\u001b[0m\n",
      "\u001b[1;32mD:\\Users\\JLD\\anaconda3\\lib\\site-packages\\requests\\api.py\u001b[0m in \u001b[0;36mrequest\u001b[1;34m(method, url, **kwargs)\u001b[0m\n\u001b[0;32m     59\u001b[0m     \u001b[1;31m# cases, and look like a memory leak in others.\u001b[0m\u001b[1;33m\u001b[0m\u001b[1;33m\u001b[0m\u001b[1;33m\u001b[0m\u001b[0m\n\u001b[0;32m     60\u001b[0m     \u001b[1;32mwith\u001b[0m \u001b[0msessions\u001b[0m\u001b[1;33m.\u001b[0m\u001b[0mSession\u001b[0m\u001b[1;33m(\u001b[0m\u001b[1;33m)\u001b[0m \u001b[1;32mas\u001b[0m \u001b[0msession\u001b[0m\u001b[1;33m:\u001b[0m\u001b[1;33m\u001b[0m\u001b[1;33m\u001b[0m\u001b[0m\n\u001b[1;32m---> 61\u001b[1;33m         \u001b[1;32mreturn\u001b[0m \u001b[0msession\u001b[0m\u001b[1;33m.\u001b[0m\u001b[0mrequest\u001b[0m\u001b[1;33m(\u001b[0m\u001b[0mmethod\u001b[0m\u001b[1;33m=\u001b[0m\u001b[0mmethod\u001b[0m\u001b[1;33m,\u001b[0m \u001b[0murl\u001b[0m\u001b[1;33m=\u001b[0m\u001b[0murl\u001b[0m\u001b[1;33m,\u001b[0m \u001b[1;33m**\u001b[0m\u001b[0mkwargs\u001b[0m\u001b[1;33m)\u001b[0m\u001b[1;33m\u001b[0m\u001b[1;33m\u001b[0m\u001b[0m\n\u001b[0m\u001b[0;32m     62\u001b[0m \u001b[1;33m\u001b[0m\u001b[0m\n\u001b[0;32m     63\u001b[0m \u001b[1;33m\u001b[0m\u001b[0m\n",
      "\u001b[1;32mD:\\Users\\JLD\\anaconda3\\lib\\site-packages\\requests\\sessions.py\u001b[0m in \u001b[0;36mrequest\u001b[1;34m(self, method, url, params, data, headers, cookies, files, auth, timeout, allow_redirects, proxies, hooks, stream, verify, cert, json)\u001b[0m\n\u001b[0;32m    526\u001b[0m             \u001b[0mhooks\u001b[0m\u001b[1;33m=\u001b[0m\u001b[0mhooks\u001b[0m\u001b[1;33m,\u001b[0m\u001b[1;33m\u001b[0m\u001b[1;33m\u001b[0m\u001b[0m\n\u001b[0;32m    527\u001b[0m         )\n\u001b[1;32m--> 528\u001b[1;33m         \u001b[0mprep\u001b[0m \u001b[1;33m=\u001b[0m \u001b[0mself\u001b[0m\u001b[1;33m.\u001b[0m\u001b[0mprepare_request\u001b[0m\u001b[1;33m(\u001b[0m\u001b[0mreq\u001b[0m\u001b[1;33m)\u001b[0m\u001b[1;33m\u001b[0m\u001b[1;33m\u001b[0m\u001b[0m\n\u001b[0m\u001b[0;32m    529\u001b[0m \u001b[1;33m\u001b[0m\u001b[0m\n\u001b[0;32m    530\u001b[0m         \u001b[0mproxies\u001b[0m \u001b[1;33m=\u001b[0m \u001b[0mproxies\u001b[0m \u001b[1;32mor\u001b[0m \u001b[1;33m{\u001b[0m\u001b[1;33m}\u001b[0m\u001b[1;33m\u001b[0m\u001b[1;33m\u001b[0m\u001b[0m\n",
      "\u001b[1;32mD:\\Users\\JLD\\anaconda3\\lib\\site-packages\\requests\\sessions.py\u001b[0m in \u001b[0;36mprepare_request\u001b[1;34m(self, request)\u001b[0m\n\u001b[0;32m    454\u001b[0m \u001b[1;33m\u001b[0m\u001b[0m\n\u001b[0;32m    455\u001b[0m         \u001b[0mp\u001b[0m \u001b[1;33m=\u001b[0m \u001b[0mPreparedRequest\u001b[0m\u001b[1;33m(\u001b[0m\u001b[1;33m)\u001b[0m\u001b[1;33m\u001b[0m\u001b[1;33m\u001b[0m\u001b[0m\n\u001b[1;32m--> 456\u001b[1;33m         p.prepare(\n\u001b[0m\u001b[0;32m    457\u001b[0m             \u001b[0mmethod\u001b[0m\u001b[1;33m=\u001b[0m\u001b[0mrequest\u001b[0m\u001b[1;33m.\u001b[0m\u001b[0mmethod\u001b[0m\u001b[1;33m.\u001b[0m\u001b[0mupper\u001b[0m\u001b[1;33m(\u001b[0m\u001b[1;33m)\u001b[0m\u001b[1;33m,\u001b[0m\u001b[1;33m\u001b[0m\u001b[1;33m\u001b[0m\u001b[0m\n\u001b[0;32m    458\u001b[0m             \u001b[0murl\u001b[0m\u001b[1;33m=\u001b[0m\u001b[0mrequest\u001b[0m\u001b[1;33m.\u001b[0m\u001b[0murl\u001b[0m\u001b[1;33m,\u001b[0m\u001b[1;33m\u001b[0m\u001b[1;33m\u001b[0m\u001b[0m\n",
      "\u001b[1;32mD:\\Users\\JLD\\anaconda3\\lib\\site-packages\\requests\\models.py\u001b[0m in \u001b[0;36mprepare\u001b[1;34m(self, method, url, headers, files, data, params, auth, cookies, hooks, json)\u001b[0m\n\u001b[0;32m    314\u001b[0m \u001b[1;33m\u001b[0m\u001b[0m\n\u001b[0;32m    315\u001b[0m         \u001b[0mself\u001b[0m\u001b[1;33m.\u001b[0m\u001b[0mprepare_method\u001b[0m\u001b[1;33m(\u001b[0m\u001b[0mmethod\u001b[0m\u001b[1;33m)\u001b[0m\u001b[1;33m\u001b[0m\u001b[1;33m\u001b[0m\u001b[0m\n\u001b[1;32m--> 316\u001b[1;33m         \u001b[0mself\u001b[0m\u001b[1;33m.\u001b[0m\u001b[0mprepare_url\u001b[0m\u001b[1;33m(\u001b[0m\u001b[0murl\u001b[0m\u001b[1;33m,\u001b[0m \u001b[0mparams\u001b[0m\u001b[1;33m)\u001b[0m\u001b[1;33m\u001b[0m\u001b[1;33m\u001b[0m\u001b[0m\n\u001b[0m\u001b[0;32m    317\u001b[0m         \u001b[0mself\u001b[0m\u001b[1;33m.\u001b[0m\u001b[0mprepare_headers\u001b[0m\u001b[1;33m(\u001b[0m\u001b[0mheaders\u001b[0m\u001b[1;33m)\u001b[0m\u001b[1;33m\u001b[0m\u001b[1;33m\u001b[0m\u001b[0m\n\u001b[0;32m    318\u001b[0m         \u001b[0mself\u001b[0m\u001b[1;33m.\u001b[0m\u001b[0mprepare_cookies\u001b[0m\u001b[1;33m(\u001b[0m\u001b[0mcookies\u001b[0m\u001b[1;33m)\u001b[0m\u001b[1;33m\u001b[0m\u001b[1;33m\u001b[0m\u001b[0m\n",
      "\u001b[1;32mD:\\Users\\JLD\\anaconda3\\lib\\site-packages\\requests\\models.py\u001b[0m in \u001b[0;36mprepare_url\u001b[1;34m(self, url, params)\u001b[0m\n\u001b[0;32m    382\u001b[0m             \u001b[0mscheme\u001b[0m\u001b[1;33m,\u001b[0m \u001b[0mauth\u001b[0m\u001b[1;33m,\u001b[0m \u001b[0mhost\u001b[0m\u001b[1;33m,\u001b[0m \u001b[0mport\u001b[0m\u001b[1;33m,\u001b[0m \u001b[0mpath\u001b[0m\u001b[1;33m,\u001b[0m \u001b[0mquery\u001b[0m\u001b[1;33m,\u001b[0m \u001b[0mfragment\u001b[0m \u001b[1;33m=\u001b[0m \u001b[0mparse_url\u001b[0m\u001b[1;33m(\u001b[0m\u001b[0murl\u001b[0m\u001b[1;33m)\u001b[0m\u001b[1;33m\u001b[0m\u001b[1;33m\u001b[0m\u001b[0m\n\u001b[0;32m    383\u001b[0m         \u001b[1;32mexcept\u001b[0m \u001b[0mLocationParseError\u001b[0m \u001b[1;32mas\u001b[0m \u001b[0me\u001b[0m\u001b[1;33m:\u001b[0m\u001b[1;33m\u001b[0m\u001b[1;33m\u001b[0m\u001b[0m\n\u001b[1;32m--> 384\u001b[1;33m             \u001b[1;32mraise\u001b[0m \u001b[0mInvalidURL\u001b[0m\u001b[1;33m(\u001b[0m\u001b[1;33m*\u001b[0m\u001b[0me\u001b[0m\u001b[1;33m.\u001b[0m\u001b[0margs\u001b[0m\u001b[1;33m)\u001b[0m\u001b[1;33m\u001b[0m\u001b[1;33m\u001b[0m\u001b[0m\n\u001b[0m\u001b[0;32m    385\u001b[0m \u001b[1;33m\u001b[0m\u001b[0m\n\u001b[0;32m    386\u001b[0m         \u001b[1;32mif\u001b[0m \u001b[1;32mnot\u001b[0m \u001b[0mscheme\u001b[0m\u001b[1;33m:\u001b[0m\u001b[1;33m\u001b[0m\u001b[1;33m\u001b[0m\u001b[0m\n",
      "\u001b[1;31mInvalidURL\u001b[0m: Failed to parse: no horário"
     ]
    }
   ],
   "source": [
    "# matches DataFrame\n",
    "matches_df = pd.DataFrame(columns=[\n",
    "    'date','time','home_team','away_team','goals_home','goals_away','referee','attendance','league','season','matchweek'\n",
    "])\n",
    "matches_df.index.name = 'match'\n",
    "\n",
    "# events DataFrame\n",
    "events_df = pd.DataFrame(columns=['match', 'team', 'time', 'player', 'desc'])\n",
    "\n",
    "# Serie A\n",
    "\n",
    "tm_site_list = []\n",
    "\n",
    "league = 'Serie A'\n",
    "for season in range(2003, 2005):\n",
    "    for matchweek in range(1,47):\n",
    "        tm_site = {}\n",
    "        tm_site['league'] = league\n",
    "        tm_site['season'] = season\n",
    "        tm_site['matchweek'] = matchweek\n",
    "        tm_site_list.append(tm_site)\n",
    "for season in range(2005, 2006):\n",
    "    for matchweek in range(1,43):\n",
    "        tm_site = {}\n",
    "        tm_site['league'] = league\n",
    "        tm_site['season'] = season\n",
    "        tm_site['matchweek'] = matchweek\n",
    "        tm_site_list.append(tm_site)\n",
    "for season in range(2006, 2024):\n",
    "    for matchweek in range(1,39):\n",
    "        tm_site = {}\n",
    "        tm_site['league'] = league\n",
    "        tm_site['season'] = season\n",
    "        tm_site['matchweek'] = matchweek\n",
    "        tm_site_list.append(tm_site)\n",
    "        \n",
    "league = 'Serie B'\n",
    "for season in range(2008, 2024):\n",
    "    for matchweek in range(1,47):\n",
    "        tm_site = {}\n",
    "        tm_site['league'] = league\n",
    "        tm_site['season'] = season\n",
    "        tm_site['matchweek'] = matchweek\n",
    "        tm_site_list.append(tm_site)\n",
    "\n",
    "        \n",
    "for tm_site in tm_site_list:\n",
    "    league, season, matchweek = tm_site['league'], tm_site['season'], tm_site['matchweek']\n",
    "    print(f'{league} {season} - Matchweek {matchweek}')\n",
    "    page = get_page(league, season, matchweek)\n",
    "    matches_list = get_matches_list(page)\n",
    "    \n",
    "    for match in matches_list:\n",
    "        date = get_match_date(match)\n",
    "        time = get_match_time(match)\n",
    "        team = get_match_teams(match)\n",
    "        goals = get_match_goals(match)\n",
    "        attendance = get_match_attendance(match)\n",
    "        referee = get_match_referee(match)\n",
    "        match_events = get_match_events(match)\n",
    "        # to matche dataframe\n",
    "        match_row = [\n",
    "            date, time, team['home'], team['away'], goals['home'], goals['away'], referee, attendance, league, season, matchweek\n",
    "        ]\n",
    "        match_index = matches_df.shape[0]\n",
    "        matches_df.loc[match_index] = match_row \n",
    "        \n",
    "        for event in match_events:\n",
    "            event_row = get_event_data(event, match_index)\n",
    "            # to event dataframe\n",
    "            events_df.loc[events_df.shape[0]] = event_row\n",
    "        "
   ]
  },
  {
   "cell_type": "code",
   "execution_count": 13,
   "id": "9966ddeb",
   "metadata": {},
   "outputs": [
    {
     "ename": "InvalidURL",
     "evalue": "Failed to parse: no horário",
     "output_type": "error",
     "traceback": [
      "\u001b[1;31m---------------------------------------------------------------------------\u001b[0m",
      "\u001b[1;31mLocationParseError\u001b[0m                        Traceback (most recent call last)",
      "\u001b[1;32mD:\\Users\\JLD\\anaconda3\\lib\\site-packages\\requests\\models.py\u001b[0m in \u001b[0;36mprepare_url\u001b[1;34m(self, url, params)\u001b[0m\n\u001b[0;32m    381\u001b[0m         \u001b[1;32mtry\u001b[0m\u001b[1;33m:\u001b[0m\u001b[1;33m\u001b[0m\u001b[1;33m\u001b[0m\u001b[0m\n\u001b[1;32m--> 382\u001b[1;33m             \u001b[0mscheme\u001b[0m\u001b[1;33m,\u001b[0m \u001b[0mauth\u001b[0m\u001b[1;33m,\u001b[0m \u001b[0mhost\u001b[0m\u001b[1;33m,\u001b[0m \u001b[0mport\u001b[0m\u001b[1;33m,\u001b[0m \u001b[0mpath\u001b[0m\u001b[1;33m,\u001b[0m \u001b[0mquery\u001b[0m\u001b[1;33m,\u001b[0m \u001b[0mfragment\u001b[0m \u001b[1;33m=\u001b[0m \u001b[0mparse_url\u001b[0m\u001b[1;33m(\u001b[0m\u001b[0murl\u001b[0m\u001b[1;33m)\u001b[0m\u001b[1;33m\u001b[0m\u001b[1;33m\u001b[0m\u001b[0m\n\u001b[0m\u001b[0;32m    383\u001b[0m         \u001b[1;32mexcept\u001b[0m \u001b[0mLocationParseError\u001b[0m \u001b[1;32mas\u001b[0m \u001b[0me\u001b[0m\u001b[1;33m:\u001b[0m\u001b[1;33m\u001b[0m\u001b[1;33m\u001b[0m\u001b[0m\n",
      "\u001b[1;32mD:\\Users\\JLD\\anaconda3\\lib\\site-packages\\urllib3\\util\\url.py\u001b[0m in \u001b[0;36mparse_url\u001b[1;34m(url)\u001b[0m\n\u001b[0;32m    391\u001b[0m     \u001b[1;32mexcept\u001b[0m \u001b[1;33m(\u001b[0m\u001b[0mValueError\u001b[0m\u001b[1;33m,\u001b[0m \u001b[0mAttributeError\u001b[0m\u001b[1;33m)\u001b[0m\u001b[1;33m:\u001b[0m\u001b[1;33m\u001b[0m\u001b[1;33m\u001b[0m\u001b[0m\n\u001b[1;32m--> 392\u001b[1;33m         \u001b[1;32mreturn\u001b[0m \u001b[0msix\u001b[0m\u001b[1;33m.\u001b[0m\u001b[0mraise_from\u001b[0m\u001b[1;33m(\u001b[0m\u001b[0mLocationParseError\u001b[0m\u001b[1;33m(\u001b[0m\u001b[0msource_url\u001b[0m\u001b[1;33m)\u001b[0m\u001b[1;33m,\u001b[0m \u001b[1;32mNone\u001b[0m\u001b[1;33m)\u001b[0m\u001b[1;33m\u001b[0m\u001b[1;33m\u001b[0m\u001b[0m\n\u001b[0m\u001b[0;32m    393\u001b[0m \u001b[1;33m\u001b[0m\u001b[0m\n",
      "\u001b[1;32mD:\\Users\\JLD\\anaconda3\\lib\\site-packages\\urllib3\\packages\\six.py\u001b[0m in \u001b[0;36mraise_from\u001b[1;34m(value, from_value)\u001b[0m\n",
      "\u001b[1;31mLocationParseError\u001b[0m: Failed to parse: no horário",
      "\nDuring handling of the above exception, another exception occurred:\n",
      "\u001b[1;31mInvalidURL\u001b[0m                                Traceback (most recent call last)",
      "\u001b[1;32m<ipython-input-13-b80c1a5bbc31>\u001b[0m in \u001b[0;36m<module>\u001b[1;34m\u001b[0m\n\u001b[1;32m----> 1\u001b[1;33m \u001b[0mpage\u001b[0m \u001b[1;33m=\u001b[0m \u001b[0mget_page\u001b[0m\u001b[1;33m(\u001b[0m\u001b[1;34m'Serie A'\u001b[0m\u001b[1;33m,\u001b[0m \u001b[1;36m2020\u001b[0m\u001b[1;33m,\u001b[0m \u001b[1;36m1\u001b[0m\u001b[1;33m)\u001b[0m\u001b[1;33m\u001b[0m\u001b[1;33m\u001b[0m\u001b[0m\n\u001b[0m",
      "\u001b[1;32m<ipython-input-2-4376e37e0512>\u001b[0m in \u001b[0;36mget_page\u001b[1;34m(league, season, matchweek)\u001b[0m\n\u001b[0;32m      9\u001b[0m     \u001b[1;31m# get request\u001b[0m\u001b[1;33m\u001b[0m\u001b[1;33m\u001b[0m\u001b[1;33m\u001b[0m\u001b[0m\n\u001b[0;32m     10\u001b[0m     \u001b[0mheaders\u001b[0m \u001b[1;33m=\u001b[0m \u001b[1;33m{\u001b[0m\u001b[1;34m'User-Agent'\u001b[0m\u001b[1;33m:\u001b[0m \u001b[1;34m'Mozilla/5.0'\u001b[0m\u001b[1;33m}\u001b[0m\u001b[1;33m\u001b[0m\u001b[1;33m\u001b[0m\u001b[0m\n\u001b[1;32m---> 11\u001b[1;33m     \u001b[0mresponse\u001b[0m \u001b[1;33m=\u001b[0m \u001b[0mrequests\u001b[0m\u001b[1;33m.\u001b[0m\u001b[0mget\u001b[0m\u001b[1;33m(\u001b[0m\u001b[0murl\u001b[0m\u001b[1;33m,\u001b[0m \u001b[0mheaders\u001b[0m\u001b[1;33m=\u001b[0m\u001b[0mheaders\u001b[0m\u001b[1;33m)\u001b[0m\u001b[1;33m\u001b[0m\u001b[1;33m\u001b[0m\u001b[0m\n\u001b[0m\u001b[0;32m     12\u001b[0m     \u001b[1;31m# html parser\u001b[0m\u001b[1;33m\u001b[0m\u001b[1;33m\u001b[0m\u001b[1;33m\u001b[0m\u001b[0m\n\u001b[0;32m     13\u001b[0m     \u001b[0mpage\u001b[0m \u001b[1;33m=\u001b[0m \u001b[0mBeautifulSoup\u001b[0m\u001b[1;33m(\u001b[0m\u001b[0mresponse\u001b[0m\u001b[1;33m.\u001b[0m\u001b[0mtext\u001b[0m\u001b[1;33m,\u001b[0m \u001b[1;34m\"html.parser\"\u001b[0m\u001b[1;33m)\u001b[0m\u001b[1;33m\u001b[0m\u001b[1;33m\u001b[0m\u001b[0m\n",
      "\u001b[1;32mD:\\Users\\JLD\\anaconda3\\lib\\site-packages\\requests\\api.py\u001b[0m in \u001b[0;36mget\u001b[1;34m(url, params, **kwargs)\u001b[0m\n\u001b[0;32m     74\u001b[0m \u001b[1;33m\u001b[0m\u001b[0m\n\u001b[0;32m     75\u001b[0m     \u001b[0mkwargs\u001b[0m\u001b[1;33m.\u001b[0m\u001b[0msetdefault\u001b[0m\u001b[1;33m(\u001b[0m\u001b[1;34m'allow_redirects'\u001b[0m\u001b[1;33m,\u001b[0m \u001b[1;32mTrue\u001b[0m\u001b[1;33m)\u001b[0m\u001b[1;33m\u001b[0m\u001b[1;33m\u001b[0m\u001b[0m\n\u001b[1;32m---> 76\u001b[1;33m     \u001b[1;32mreturn\u001b[0m \u001b[0mrequest\u001b[0m\u001b[1;33m(\u001b[0m\u001b[1;34m'get'\u001b[0m\u001b[1;33m,\u001b[0m \u001b[0murl\u001b[0m\u001b[1;33m,\u001b[0m \u001b[0mparams\u001b[0m\u001b[1;33m=\u001b[0m\u001b[0mparams\u001b[0m\u001b[1;33m,\u001b[0m \u001b[1;33m**\u001b[0m\u001b[0mkwargs\u001b[0m\u001b[1;33m)\u001b[0m\u001b[1;33m\u001b[0m\u001b[1;33m\u001b[0m\u001b[0m\n\u001b[0m\u001b[0;32m     77\u001b[0m \u001b[1;33m\u001b[0m\u001b[0m\n\u001b[0;32m     78\u001b[0m \u001b[1;33m\u001b[0m\u001b[0m\n",
      "\u001b[1;32mD:\\Users\\JLD\\anaconda3\\lib\\site-packages\\requests\\api.py\u001b[0m in \u001b[0;36mrequest\u001b[1;34m(method, url, **kwargs)\u001b[0m\n\u001b[0;32m     59\u001b[0m     \u001b[1;31m# cases, and look like a memory leak in others.\u001b[0m\u001b[1;33m\u001b[0m\u001b[1;33m\u001b[0m\u001b[1;33m\u001b[0m\u001b[0m\n\u001b[0;32m     60\u001b[0m     \u001b[1;32mwith\u001b[0m \u001b[0msessions\u001b[0m\u001b[1;33m.\u001b[0m\u001b[0mSession\u001b[0m\u001b[1;33m(\u001b[0m\u001b[1;33m)\u001b[0m \u001b[1;32mas\u001b[0m \u001b[0msession\u001b[0m\u001b[1;33m:\u001b[0m\u001b[1;33m\u001b[0m\u001b[1;33m\u001b[0m\u001b[0m\n\u001b[1;32m---> 61\u001b[1;33m         \u001b[1;32mreturn\u001b[0m \u001b[0msession\u001b[0m\u001b[1;33m.\u001b[0m\u001b[0mrequest\u001b[0m\u001b[1;33m(\u001b[0m\u001b[0mmethod\u001b[0m\u001b[1;33m=\u001b[0m\u001b[0mmethod\u001b[0m\u001b[1;33m,\u001b[0m \u001b[0murl\u001b[0m\u001b[1;33m=\u001b[0m\u001b[0murl\u001b[0m\u001b[1;33m,\u001b[0m \u001b[1;33m**\u001b[0m\u001b[0mkwargs\u001b[0m\u001b[1;33m)\u001b[0m\u001b[1;33m\u001b[0m\u001b[1;33m\u001b[0m\u001b[0m\n\u001b[0m\u001b[0;32m     62\u001b[0m \u001b[1;33m\u001b[0m\u001b[0m\n\u001b[0;32m     63\u001b[0m \u001b[1;33m\u001b[0m\u001b[0m\n",
      "\u001b[1;32mD:\\Users\\JLD\\anaconda3\\lib\\site-packages\\requests\\sessions.py\u001b[0m in \u001b[0;36mrequest\u001b[1;34m(self, method, url, params, data, headers, cookies, files, auth, timeout, allow_redirects, proxies, hooks, stream, verify, cert, json)\u001b[0m\n\u001b[0;32m    526\u001b[0m             \u001b[0mhooks\u001b[0m\u001b[1;33m=\u001b[0m\u001b[0mhooks\u001b[0m\u001b[1;33m,\u001b[0m\u001b[1;33m\u001b[0m\u001b[1;33m\u001b[0m\u001b[0m\n\u001b[0;32m    527\u001b[0m         )\n\u001b[1;32m--> 528\u001b[1;33m         \u001b[0mprep\u001b[0m \u001b[1;33m=\u001b[0m \u001b[0mself\u001b[0m\u001b[1;33m.\u001b[0m\u001b[0mprepare_request\u001b[0m\u001b[1;33m(\u001b[0m\u001b[0mreq\u001b[0m\u001b[1;33m)\u001b[0m\u001b[1;33m\u001b[0m\u001b[1;33m\u001b[0m\u001b[0m\n\u001b[0m\u001b[0;32m    529\u001b[0m \u001b[1;33m\u001b[0m\u001b[0m\n\u001b[0;32m    530\u001b[0m         \u001b[0mproxies\u001b[0m \u001b[1;33m=\u001b[0m \u001b[0mproxies\u001b[0m \u001b[1;32mor\u001b[0m \u001b[1;33m{\u001b[0m\u001b[1;33m}\u001b[0m\u001b[1;33m\u001b[0m\u001b[1;33m\u001b[0m\u001b[0m\n",
      "\u001b[1;32mD:\\Users\\JLD\\anaconda3\\lib\\site-packages\\requests\\sessions.py\u001b[0m in \u001b[0;36mprepare_request\u001b[1;34m(self, request)\u001b[0m\n\u001b[0;32m    454\u001b[0m \u001b[1;33m\u001b[0m\u001b[0m\n\u001b[0;32m    455\u001b[0m         \u001b[0mp\u001b[0m \u001b[1;33m=\u001b[0m \u001b[0mPreparedRequest\u001b[0m\u001b[1;33m(\u001b[0m\u001b[1;33m)\u001b[0m\u001b[1;33m\u001b[0m\u001b[1;33m\u001b[0m\u001b[0m\n\u001b[1;32m--> 456\u001b[1;33m         p.prepare(\n\u001b[0m\u001b[0;32m    457\u001b[0m             \u001b[0mmethod\u001b[0m\u001b[1;33m=\u001b[0m\u001b[0mrequest\u001b[0m\u001b[1;33m.\u001b[0m\u001b[0mmethod\u001b[0m\u001b[1;33m.\u001b[0m\u001b[0mupper\u001b[0m\u001b[1;33m(\u001b[0m\u001b[1;33m)\u001b[0m\u001b[1;33m,\u001b[0m\u001b[1;33m\u001b[0m\u001b[1;33m\u001b[0m\u001b[0m\n\u001b[0;32m    458\u001b[0m             \u001b[0murl\u001b[0m\u001b[1;33m=\u001b[0m\u001b[0mrequest\u001b[0m\u001b[1;33m.\u001b[0m\u001b[0murl\u001b[0m\u001b[1;33m,\u001b[0m\u001b[1;33m\u001b[0m\u001b[1;33m\u001b[0m\u001b[0m\n",
      "\u001b[1;32mD:\\Users\\JLD\\anaconda3\\lib\\site-packages\\requests\\models.py\u001b[0m in \u001b[0;36mprepare\u001b[1;34m(self, method, url, headers, files, data, params, auth, cookies, hooks, json)\u001b[0m\n\u001b[0;32m    314\u001b[0m \u001b[1;33m\u001b[0m\u001b[0m\n\u001b[0;32m    315\u001b[0m         \u001b[0mself\u001b[0m\u001b[1;33m.\u001b[0m\u001b[0mprepare_method\u001b[0m\u001b[1;33m(\u001b[0m\u001b[0mmethod\u001b[0m\u001b[1;33m)\u001b[0m\u001b[1;33m\u001b[0m\u001b[1;33m\u001b[0m\u001b[0m\n\u001b[1;32m--> 316\u001b[1;33m         \u001b[0mself\u001b[0m\u001b[1;33m.\u001b[0m\u001b[0mprepare_url\u001b[0m\u001b[1;33m(\u001b[0m\u001b[0murl\u001b[0m\u001b[1;33m,\u001b[0m \u001b[0mparams\u001b[0m\u001b[1;33m)\u001b[0m\u001b[1;33m\u001b[0m\u001b[1;33m\u001b[0m\u001b[0m\n\u001b[0m\u001b[0;32m    317\u001b[0m         \u001b[0mself\u001b[0m\u001b[1;33m.\u001b[0m\u001b[0mprepare_headers\u001b[0m\u001b[1;33m(\u001b[0m\u001b[0mheaders\u001b[0m\u001b[1;33m)\u001b[0m\u001b[1;33m\u001b[0m\u001b[1;33m\u001b[0m\u001b[0m\n\u001b[0;32m    318\u001b[0m         \u001b[0mself\u001b[0m\u001b[1;33m.\u001b[0m\u001b[0mprepare_cookies\u001b[0m\u001b[1;33m(\u001b[0m\u001b[0mcookies\u001b[0m\u001b[1;33m)\u001b[0m\u001b[1;33m\u001b[0m\u001b[1;33m\u001b[0m\u001b[0m\n",
      "\u001b[1;32mD:\\Users\\JLD\\anaconda3\\lib\\site-packages\\requests\\models.py\u001b[0m in \u001b[0;36mprepare_url\u001b[1;34m(self, url, params)\u001b[0m\n\u001b[0;32m    382\u001b[0m             \u001b[0mscheme\u001b[0m\u001b[1;33m,\u001b[0m \u001b[0mauth\u001b[0m\u001b[1;33m,\u001b[0m \u001b[0mhost\u001b[0m\u001b[1;33m,\u001b[0m \u001b[0mport\u001b[0m\u001b[1;33m,\u001b[0m \u001b[0mpath\u001b[0m\u001b[1;33m,\u001b[0m \u001b[0mquery\u001b[0m\u001b[1;33m,\u001b[0m \u001b[0mfragment\u001b[0m \u001b[1;33m=\u001b[0m \u001b[0mparse_url\u001b[0m\u001b[1;33m(\u001b[0m\u001b[0murl\u001b[0m\u001b[1;33m)\u001b[0m\u001b[1;33m\u001b[0m\u001b[1;33m\u001b[0m\u001b[0m\n\u001b[0;32m    383\u001b[0m         \u001b[1;32mexcept\u001b[0m \u001b[0mLocationParseError\u001b[0m \u001b[1;32mas\u001b[0m \u001b[0me\u001b[0m\u001b[1;33m:\u001b[0m\u001b[1;33m\u001b[0m\u001b[1;33m\u001b[0m\u001b[0m\n\u001b[1;32m--> 384\u001b[1;33m             \u001b[1;32mraise\u001b[0m \u001b[0mInvalidURL\u001b[0m\u001b[1;33m(\u001b[0m\u001b[1;33m*\u001b[0m\u001b[0me\u001b[0m\u001b[1;33m.\u001b[0m\u001b[0margs\u001b[0m\u001b[1;33m)\u001b[0m\u001b[1;33m\u001b[0m\u001b[1;33m\u001b[0m\u001b[0m\n\u001b[0m\u001b[0;32m    385\u001b[0m \u001b[1;33m\u001b[0m\u001b[0m\n\u001b[0;32m    386\u001b[0m         \u001b[1;32mif\u001b[0m \u001b[1;32mnot\u001b[0m \u001b[0mscheme\u001b[0m\u001b[1;33m:\u001b[0m\u001b[1;33m\u001b[0m\u001b[1;33m\u001b[0m\u001b[0m\n",
      "\u001b[1;31mInvalidURL\u001b[0m: Failed to parse: no horário"
     ]
    }
   ],
   "source": [
    "page = get_page('Serie A', 2020, 1)"
   ]
  },
  {
   "cell_type": "markdown",
   "id": "838aca56",
   "metadata": {},
   "source": [
    "Gravação dos data frames em arquivos csv"
   ]
  },
  {
   "cell_type": "code",
   "execution_count": null,
   "id": "e681636b",
   "metadata": {},
   "outputs": [],
   "source": [
    "matches_df.to_csv('tm_matches.csv')\n",
    "events_df.to_csv('tm_events.csv')"
   ]
  }
 ],
 "metadata": {
  "kernelspec": {
   "display_name": "Python 3",
   "language": "python",
   "name": "python3"
  },
  "language_info": {
   "codemirror_mode": {
    "name": "ipython",
    "version": 3
   },
   "file_extension": ".py",
   "mimetype": "text/x-python",
   "name": "python",
   "nbconvert_exporter": "python",
   "pygments_lexer": "ipython3",
   "version": "3.8.8"
  }
 },
 "nbformat": 4,
 "nbformat_minor": 5
}
